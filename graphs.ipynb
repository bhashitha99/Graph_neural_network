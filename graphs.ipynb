{
  "nbformat": 4,
  "nbformat_minor": 0,
  "metadata": {
    "colab": {
      "provenance": [],
      "authorship_tag": "ABX9TyMng17+ItKUoQCjpCVBjEmU",
      "include_colab_link": true
    },
    "kernelspec": {
      "name": "python3",
      "display_name": "Python 3"
    },
    "language_info": {
      "name": "python"
    }
  },
  "cells": [
    {
      "cell_type": "markdown",
      "metadata": {
        "id": "view-in-github",
        "colab_type": "text"
      },
      "source": [
        "<a href=\"https://colab.research.google.com/github/bhashitha99/Graph_neural_network/blob/main/graphs.ipynb\" target=\"_parent\"><img src=\"https://colab.research.google.com/assets/colab-badge.svg\" alt=\"Open In Colab\"/></a>"
      ]
    },
    {
      "cell_type": "code",
      "source": [
        "import networkx as nx"
      ],
      "metadata": {
        "id": "lxj98D34Iwcx"
      },
      "execution_count": 4,
      "outputs": []
    },
    {
      "cell_type": "code",
      "source": [
        "import matplotlib.pyplot as plt"
      ],
      "metadata": {
        "id": "n1gNbx_HI2GL"
      },
      "execution_count": 5,
      "outputs": []
    },
    {
      "cell_type": "markdown",
      "source": [
        "# Graph 1"
      ],
      "metadata": {
        "id": "hT58u4u1V-CU"
      }
    },
    {
      "cell_type": "code",
      "source": [
        "G=nx.Graph()\n",
        "G.add_edge(1,2)\n",
        "G.add_edge(3,2)\n",
        "# G.add_edge(3,3)\n",
        "nx.draw(G, cmap=plt.get_cmap('viridis'), node_color=G, with_labels=True)\n",
        "print(\"nx.is_weighted = \",nx.is_weighted(G))\n",
        "print(\"nx.is_directed = \",nx.is_directed(G))"
      ],
      "metadata": {
        "colab": {
          "base_uri": "https://localhost:8080/",
          "height": 551
        },
        "id": "IJ_xP7DpI6RV",
        "outputId": "c6186917-b743-4d50-8b0b-eaad6d5ba261"
      },
      "execution_count": 4,
      "outputs": [
        {
          "output_type": "stream",
          "name": "stdout",
          "text": [
            "nx.is_weighted =  False\n",
            "nx.is_directed =  False\n"
          ]
        },
        {
          "output_type": "display_data",
          "data": {
            "text/plain": [
              "<Figure size 640x480 with 1 Axes>"
            ],
            "image/png": "[encoded data removed]"
          },
          "metadata": {}
        }
      ]
    },
    {
      "cell_type": "code",
      "source": [
        "nx.to_numpy_array(G)"
      ],
      "metadata": {
        "colab": {
          "base_uri": "https://localhost:8080/"
        },
        "id": "oMXQbiz_J4uG",
        "outputId": "d80b92fa-ec91-46c6-cef0-5561d10819c3"
      },
      "execution_count": 5,
      "outputs": [
        {
          "output_type": "execute_result",
          "data": {
            "text/plain": [
              "array([[0., 1., 0.],\n",
              "       [1., 0., 1.],\n",
              "       [0., 1., 0.]])"
            ]
          },
          "metadata": {},
          "execution_count": 5
        }
      ]
    },
    {
      "cell_type": "markdown",
      "source": [
        "# Graph 2"
      ],
      "metadata": {
        "id": "b2TZVFv3WCVz"
      }
    },
    {
      "cell_type": "code",
      "source": [
        "G2 = nx.Graph()\n",
        "G2.add_edge(1,2, weight=1)\n",
        "G2.add_edge(3,2, weight=5)\n",
        "G2.add_edge(3,3, weight=3)\n",
        "G2.add_edge(2,2, weight=6)\n",
        "G2.add_edge(1,1, weight=9)\n",
        "\n",
        "nx.draw(G2, cmap=plt.get_cmap(\"viridis\"), node_color=G2, with_labels=True)\n",
        "print(nx.is_directed(G2))\n",
        "print(nx.is_weighted(G2))"
      ],
      "metadata": {
        "colab": {
          "base_uri": "https://localhost:8080/",
          "height": 551
        },
        "id": "oLAZYMkyKJNb",
        "outputId": "ec2223c7-ab71-49b6-9bea-00801124a6b2"
      },
      "execution_count": 30,
      "outputs": [
        {
          "output_type": "stream",
          "name": "stdout",
          "text": [
            "False\n",
            "True\n"
          ]
        },
        {
          "output_type": "display_data",
          "data": {
            "text/plain": [
              "<Figure size 640x480 with 1 Axes>"
            ],
            "image/png": "[encoded data removed]"
          },
          "metadata": {}
        }
      ]
    },
    {
      "cell_type": "code",
      "source": [
        "nx.to_numpy_array(G2)"
      ],
      "metadata": {
        "colab": {
          "base_uri": "https://localhost:8080/"
        },
        "id": "J9fb5W_GKr_D",
        "outputId": "19ba6fe3-2914-49c5-97ee-e84ffb342b29"
      },
      "execution_count": 31,
      "outputs": [
        {
          "output_type": "execute_result",
          "data": {
            "text/plain": [
              "array([[9., 1., 0.],\n",
              "       [1., 6., 5.],\n",
              "       [0., 5., 3.]])"
            ]
          },
          "metadata": {},
          "execution_count": 31
        }
      ]
    },
    {
      "cell_type": "code",
      "source": [
        "I = nx.incidence_matrix(G2)"
      ],
      "metadata": {
        "id": "NE2bsUJaLnWS"
      },
      "execution_count": 32,
      "outputs": []
    },
    {
      "cell_type": "code",
      "source": [
        "I.data"
      ],
      "metadata": {
        "colab": {
          "base_uri": "https://localhost:8080/"
        },
        "id": "dyc7UtGvSTgT",
        "outputId": "c742bb57-27e7-43fc-e4ba-603834741f10"
      },
      "execution_count": 33,
      "outputs": [
        {
          "output_type": "execute_result",
          "data": {
            "text/plain": [
              "array([1., 1., 1., 1.])"
            ]
          },
          "metadata": {},
          "execution_count": 33
        }
      ]
    },
    {
      "cell_type": "code",
      "source": [
        "I.todense()"
      ],
      "metadata": {
        "colab": {
          "base_uri": "https://localhost:8080/"
        },
        "id": "d-jX3EkNSVcu",
        "outputId": "e73eba00-cbcf-49bd-bd25-776040cc95e9"
      },
      "execution_count": 34,
      "outputs": [
        {
          "output_type": "execute_result",
          "data": {
            "text/plain": [
              "array([[1., 0., 0., 0., 0.],\n",
              "       [1., 0., 1., 0., 0.],\n",
              "       [0., 0., 1., 0., 0.]])"
            ]
          },
          "metadata": {},
          "execution_count": 34
        }
      ]
    },
    {
      "cell_type": "code",
      "source": [
        "A = nx.adjacency_matrix(G2)"
      ],
      "metadata": {
        "id": "tZleOg78Seon"
      },
      "execution_count": 35,
      "outputs": []
    },
    {
      "cell_type": "code",
      "source": [
        "A.todense()"
      ],
      "metadata": {
        "colab": {
          "base_uri": "https://localhost:8080/"
        },
        "id": "Pske3Iw8V1wO",
        "outputId": "c21eb2a5-d613-4720-9546-14aae2bf52ff"
      },
      "execution_count": 38,
      "outputs": [
        {
          "output_type": "execute_result",
          "data": {
            "text/plain": [
              "array([[9, 1, 0],\n",
              "       [1, 6, 5],\n",
              "       [0, 5, 3]])"
            ]
          },
          "metadata": {},
          "execution_count": 38
        }
      ]
    },
    {
      "cell_type": "markdown",
      "source": [
        "# Graph 3"
      ],
      "metadata": {
        "id": "Hqq6yjwgWIej"
      }
    },
    {
      "cell_type": "code",
      "source": [
        "G3 = nx.DiGraph()\n",
        "G3.add_edge(1,2, weight = 1)\n",
        "G3.add_edge(3,2, weight = 5)\n",
        "G3.add_edge(3,1, weight = 10)\n",
        "nx.draw(G3, cmap=plt.get_cmap('viridis'), node_color=G, with_labels=True)\n",
        "print(nx.is_weighted(G3))\n",
        "print(nx.is_directed(G3))"
      ],
      "metadata": {
        "colab": {
          "base_uri": "https://localhost:8080/",
          "height": 551
        },
        "id": "4Pnb7BuwV4_r",
        "outputId": "32d6e370-5975-4362-b479-66feca9d3f13"
      },
      "execution_count": 58,
      "outputs": [
        {
          "output_type": "stream",
          "name": "stdout",
          "text": [
            "True\n",
            "True\n"
          ]
        },
        {
          "output_type": "display_data",
          "data": {
            "text/plain": [
              "<Figure size 640x480 with 1 Axes>"
            ],
            "image/png": "[encoded data removed]"
          },
          "metadata": {}
        }
      ]
    },
    {
      "cell_type": "code",
      "source": [
        "nx.to_numpy_array(G3)"
      ],
      "metadata": {
        "colab": {
          "base_uri": "https://localhost:8080/"
        },
        "id": "3EJy2-e8XCCN",
        "outputId": "5ed51291-d9b3-450c-e1e8-e1a403d8e2b3"
      },
      "execution_count": 59,
      "outputs": [
        {
          "output_type": "execute_result",
          "data": {
            "text/plain": [
              "array([[ 0.,  1.,  0.],\n",
              "       [ 0.,  0.,  0.],\n",
              "       [10.,  5.,  0.]])"
            ]
          },
          "metadata": {},
          "execution_count": 59
        }
      ]
    },
    {
      "cell_type": "code",
      "source": [
        "I = nx.incidence_matrix(G3)"
      ],
      "metadata": {
        "id": "Z-fMO2sgYILU"
      },
      "execution_count": 60,
      "outputs": []
    },
    {
      "cell_type": "code",
      "source": [
        "I.data"
      ],
      "metadata": {
        "colab": {
          "base_uri": "https://localhost:8080/"
        },
        "id": "-RFOVOJfeuko",
        "outputId": "6effc931-bd8b-4ad2-975d-53ce1bae067e"
      },
      "execution_count": 61,
      "outputs": [
        {
          "output_type": "execute_result",
          "data": {
            "text/plain": [
              "array([1., 1., 1., 1., 1., 1.])"
            ]
          },
          "metadata": {},
          "execution_count": 61
        }
      ]
    },
    {
      "cell_type": "code",
      "source": [
        "I.todense()"
      ],
      "metadata": {
        "colab": {
          "base_uri": "https://localhost:8080/"
        },
        "id": "H_K4H1k0evex",
        "outputId": "dc2c7f4a-d081-44b1-c222-420cbf3a7935"
      },
      "execution_count": 62,
      "outputs": [
        {
          "output_type": "execute_result",
          "data": {
            "text/plain": [
              "array([[1., 0., 1.],\n",
              "       [1., 1., 0.],\n",
              "       [0., 1., 1.]])"
            ]
          },
          "metadata": {},
          "execution_count": 62
        }
      ]
    },
    {
      "cell_type": "code",
      "source": [
        "A = nx.adjacency_matrix(G3)"
      ],
      "metadata": {
        "id": "9yggA8BBeyt5"
      },
      "execution_count": 63,
      "outputs": []
    },
    {
      "cell_type": "code",
      "source": [
        "A.todense()"
      ],
      "metadata": {
        "colab": {
          "base_uri": "https://localhost:8080/"
        },
        "id": "XgCZs0IMfJtn",
        "outputId": "d71233fc-0207-4c3c-dbde-20fe2f14117d"
      },
      "execution_count": 64,
      "outputs": [
        {
          "output_type": "execute_result",
          "data": {
            "text/plain": [
              "array([[ 0,  1,  0],\n",
              "       [ 0,  0,  0],\n",
              "       [10,  5,  0]])"
            ]
          },
          "metadata": {},
          "execution_count": 64
        }
      ]
    },
    {
      "cell_type": "code",
      "source": [
        "L = nx.laplacian_matrix(G3)"
      ],
      "metadata": {
        "id": "Su0gedhpfO59"
      },
      "execution_count": 65,
      "outputs": []
    },
    {
      "cell_type": "code",
      "source": [
        "L.todense()"
      ],
      "metadata": {
        "colab": {
          "base_uri": "https://localhost:8080/"
        },
        "id": "LUiFFagUftv6",
        "outputId": "6a5f46d1-8823-4422-8180-028065328cb1"
      },
      "execution_count": 69,
      "outputs": [
        {
          "output_type": "execute_result",
          "data": {
            "text/plain": [
              "array([[  1,  -1,   0],\n",
              "       [  0,   0,   0],\n",
              "       [-10,  -5,  15]])"
            ]
          },
          "metadata": {},
          "execution_count": 69
        }
      ]
    },
    {
      "cell_type": "markdown",
      "source": [
        "# consider 2 nd graph"
      ],
      "metadata": {
        "id": "HcbwH1pog4L3"
      }
    },
    {
      "cell_type": "code",
      "source": [
        "L2 = nx.laplacian_matrix(G2)\n",
        "L2.todense()"
      ],
      "metadata": {
        "colab": {
          "base_uri": "https://localhost:8080/"
        },
        "id": "CIKb3gX3gQe9",
        "outputId": "d649a932-12e6-414b-fc94-f0ded1585685"
      },
      "execution_count": 74,
      "outputs": [
        {
          "output_type": "execute_result",
          "data": {
            "text/plain": [
              "array([[ 1, -1,  0],\n",
              "       [-1,  6, -5],\n",
              "       [ 0, -5,  5]])"
            ]
          },
          "metadata": {},
          "execution_count": 74
        }
      ]
    },
    {
      "cell_type": "code",
      "source": [
        "A2 = nx.adjacency_matrix(G2)"
      ],
      "metadata": {
        "id": "WERxMau2gfS3"
      },
      "execution_count": 75,
      "outputs": []
    },
    {
      "cell_type": "code",
      "source": [
        "A2.todense()"
      ],
      "metadata": {
        "colab": {
          "base_uri": "https://localhost:8080/"
        },
        "id": "H73uSyZzlGsI",
        "outputId": "76dcdc31-0806-46d1-a418-722321fc7398"
      },
      "execution_count": 76,
      "outputs": [
        {
          "output_type": "execute_result",
          "data": {
            "text/plain": [
              "array([[9, 1, 0],\n",
              "       [1, 6, 5],\n",
              "       [0, 5, 3]])"
            ]
          },
          "metadata": {},
          "execution_count": 76
        }
      ]
    },
    {
      "cell_type": "code",
      "source": [
        "G2.edges"
      ],
      "metadata": {
        "colab": {
          "base_uri": "https://localhost:8080/"
        },
        "id": "me-apOKklJWR",
        "outputId": "64416499-100c-4285-8a42-bd5225c77bf7"
      },
      "execution_count": 77,
      "outputs": [
        {
          "output_type": "execute_result",
          "data": {
            "text/plain": [
              "EdgeView([(1, 2), (1, 1), (2, 3), (2, 2), (3, 3)])"
            ]
          },
          "metadata": {},
          "execution_count": 77
        }
      ]
    },
    {
      "cell_type": "code",
      "source": [
        "G2.nodes"
      ],
      "metadata": {
        "colab": {
          "base_uri": "https://localhost:8080/"
        },
        "id": "csUa7Mwam6Js",
        "outputId": "6d19710a-95b4-4164-fc60-c6c58b776be3"
      },
      "execution_count": 78,
      "outputs": [
        {
          "output_type": "execute_result",
          "data": {
            "text/plain": [
              "NodeView((1, 2, 3))"
            ]
          },
          "metadata": {},
          "execution_count": 78
        }
      ]
    },
    {
      "cell_type": "markdown",
      "source": [
        "# Graph With Node Class"
      ],
      "metadata": {
        "id": "4zwtIJPIzl0P"
      }
    },
    {
      "cell_type": "code",
      "source": [
        "G4 = nx.Graph()\n",
        "G4.add_edges_from(\n",
        "    [('A','B'), ('A','C'),('D','B'),('E','C'),('E','F'),\n",
        "     ('B','H'),('B','G'),('B','F'),('C','G')]\n",
        ")\n",
        "\n",
        "val_map = {\n",
        "    # 'A':1.0,\n",
        "    # 'D':0.5,\n",
        "    'F':0.7,\n",
        "    # 'H':0.0,\n",
        "}\n",
        "\n",
        "values = [val_map.get(node, .7) for node in G4.nodes()]\n",
        "\n",
        "nx.draw(G4, cmap=plt.get_cmap('viridis'), node_color=values, with_labels=True, font_color='white')\n",
        "plt.show()"
      ],
      "metadata": {
        "colab": {
          "base_uri": "https://localhost:8080/",
          "height": 516
        },
        "id": "pr1XuZYrm8kD",
        "outputId": "133b9c53-b839-48a4-bca1-832a33563120"
      },
      "execution_count": 90,
      "outputs": [
        {
          "output_type": "display_data",
          "data": {
            "text/plain": [
              "<Figure size 640x480 with 1 Axes>"
            ],
            "image/png": "[encoded data removed]"
          },
          "metadata": {}
        }
      ]
    },
    {
      "cell_type": "markdown",
      "source": [
        "# Rendering all nodes and edges"
      ],
      "metadata": {
        "id": "7ctmvd0wPEZ5"
      }
    },
    {
      "cell_type": "code",
      "source": [
        " edge_labels = {('A', 'B'): 'e1',  ('A', 'C'): 'e2', ('C', 'E'): 'e3', ('E', 'F'): 'e4', ('C', 'F'): 'ef', ('B', 'D'): 'e6', ('D', 'F'): 'e7'\n",
        "  , ('B', 'B'): 'e8', ('F', 'F'): 'e9'\n",
        " }\n",
        "\n",
        " all_edges = [('A', 'B'), ('A', 'C'), ('B', 'D'), ('C', 'E'), ('C', 'F'),\n",
        "     ('E', 'F'), ('D', 'F'),\n",
        "     ('B', 'B'), ('F', 'F')\n",
        "     ]"
      ],
      "metadata": {
        "id": "Rq7UqG2N2L5y"
      },
      "execution_count": 6,
      "outputs": []
    },
    {
      "cell_type": "code",
      "source": [
        "G5 = nx.Graph()\n",
        "G5.add_edges_from(all_edges)\n",
        "\n",
        "val_map = {'A': 1.0,\n",
        "           'B': 2.0,\n",
        "           'C': 3.0,\n",
        "           'D': 4.0, 'E': 5.0, 'F': 6.0}\n",
        "\n",
        "values = [val_map.get(node,0.5) for node in G5.nodes()]\n",
        "pos = nx.spring_layout(G5)\n",
        "plt.figure(figsize=(12,6))\n",
        "nx.draw(\n",
        "    G5, pos, edge_color='black', width=1, linewidths=1,\n",
        "    node_size=500, node_color=values, alpha=0.9,\n",
        "    labels={node: node for node in G5.nodes()}\n",
        ")\n",
        "\n",
        "nx.draw_networkx_edge_labels(G5, pos,edge_labels=edge_labels,\n",
        "                             font_color='red')\n",
        "plt.axis('off')\n",
        "plt.show()\n",
        "print(nx.is_weighted(G5))\n",
        "print(nx.is_directed(G5))"
      ],
      "metadata": {
        "colab": {
          "base_uri": "https://localhost:8080/",
          "height": 433
        },
        "id": "F7XCVVD0PV8y",
        "outputId": "70f07c1e-0bc4-46c2-9d47-fd089c3d8887"
      },
      "execution_count": 7,
      "outputs": [
        {
          "output_type": "display_data",
          "data": {
            "text/plain": [
              "<Figure size 1200x600 with 1 Axes>"
            ],
            "image/png": "[encoded data removed]"
          },
          "metadata": {}
        },
        {
          "output_type": "stream",
          "name": "stdout",
          "text": [
            "False\n",
            "False\n"
          ]
        }
      ]
    },
    {
      "cell_type": "markdown",
      "source": [
        "Adjacency metrix"
      ],
      "metadata": {
        "id": "YVJud0_7TNEG"
      }
    },
    {
      "cell_type": "code",
      "source": [
        "A5 = nx.adjacency_matrix(G5)\n",
        "A5.todense()"
      ],
      "metadata": {
        "colab": {
          "base_uri": "https://localhost:8080/"
        },
        "id": "qC-E_3JbTMfN",
        "outputId": "5b45228a-bac0-4598-e678-8821cbfecdf0"
      },
      "execution_count": 8,
      "outputs": [
        {
          "output_type": "execute_result",
          "data": {
            "text/plain": [
              "array([[0, 1, 1, 0, 0, 0],\n",
              "       [1, 1, 0, 1, 0, 0],\n",
              "       [1, 0, 0, 0, 1, 1],\n",
              "       [0, 1, 0, 0, 0, 1],\n",
              "       [0, 0, 1, 0, 0, 1],\n",
              "       [0, 0, 1, 1, 1, 1]])"
            ]
          },
          "metadata": {},
          "execution_count": 8
        }
      ]
    },
    {
      "cell_type": "code",
      "source": [
        "for line in nx.generate_adjlist(G5):\n",
        "  print(line)\n",
        "\n",
        "# this not work properly"
      ],
      "metadata": {
        "colab": {
          "base_uri": "https://localhost:8080/"
        },
        "id": "Mud3m8-yRaoc",
        "outputId": "6f367d87-3f1a-447a-bc8f-eae5738a021e"
      },
      "execution_count": 9,
      "outputs": [
        {
          "output_type": "stream",
          "name": "stdout",
          "text": [
            "A B C\n",
            "B D B\n",
            "C E F\n",
            "D F\n",
            "E F\n",
            "F F\n"
          ]
        }
      ]
    },
    {
      "cell_type": "code",
      "source": [
        "for x in G5.adjacency():\n",
        "  print (x)"
      ],
      "metadata": {
        "colab": {
          "base_uri": "https://localhost:8080/"
        },
        "id": "gi7-WtATTJ8Q",
        "outputId": "f1907010-fcd3-45b6-dbf3-5613191197af"
      },
      "execution_count": 10,
      "outputs": [
        {
          "output_type": "stream",
          "name": "stdout",
          "text": [
            "('A', {'B': {}, 'C': {}})\n",
            "('B', {'A': {}, 'D': {}, 'B': {}})\n",
            "('C', {'A': {}, 'E': {}, 'F': {}})\n",
            "('D', {'B': {}, 'F': {}})\n",
            "('E', {'C': {}, 'F': {}})\n",
            "('F', {'C': {}, 'E': {}, 'D': {}, 'F': {}})\n"
          ]
        }
      ]
    },
    {
      "cell_type": "markdown",
      "source": [
        "# Listing all adjecent nodes"
      ],
      "metadata": {
        "id": "su5gLEly1tfg"
      }
    },
    {
      "cell_type": "code",
      "source": [
        "def get_adjanct_list_with_all_edges(graph_val):\n",
        "     for s, neighbors in graph_val.adjacency():\n",
        "        line = str(s) + ' : '\n",
        "        for t, data in neighbors.items():\n",
        "                line += str(t) + ' - '\n",
        "        yield line[: -len(' ')]"
      ],
      "metadata": {
        "id": "8u7AlY5qVLbD"
      },
      "execution_count": 11,
      "outputs": []
    },
    {
      "cell_type": "code",
      "source": [
        "for line in get_adjanct_list_with_all_edges(G5):\n",
        "    print(line)\n",
        ""
      ],
      "metadata": {
        "colab": {
          "base_uri": "https://localhost:8080/"
        },
        "id": "gi4oHdPC1xT2",
        "outputId": "bcf0d439-c53c-404a-c763-20bcd27350d1"
      },
      "execution_count": 12,
      "outputs": [
        {
          "output_type": "stream",
          "name": "stdout",
          "text": [
            "A : B - C -\n",
            "B : A - D - B -\n",
            "C : A - E - F -\n",
            "D : B - F -\n",
            "E : C - F -\n",
            "F : C - E - D - F -\n"
          ]
        }
      ]
    },
    {
      "cell_type": "markdown",
      "source": [
        "# Incidence Matrix"
      ],
      "metadata": {
        "id": "6QRz9CMD2HGy"
      }
    },
    {
      "cell_type": "code",
      "source": [
        "I5 = nx.incidence_matrix(G5)"
      ],
      "metadata": {
        "id": "vvylHO5H10jB"
      },
      "execution_count": 14,
      "outputs": []
    },
    {
      "cell_type": "code",
      "source": [
        "I5.todense()"
      ],
      "metadata": {
        "colab": {
          "base_uri": "https://localhost:8080/"
        },
        "id": "5lYGDIwN2LVN",
        "outputId": "af6dcdd0-a6b0-41ed-b472-4b512b227430"
      },
      "execution_count": 16,
      "outputs": [
        {
          "output_type": "execute_result",
          "data": {
            "text/plain": [
              "array([[1., 1., 0., 0., 0., 0., 0., 0., 0.],\n",
              "       [1., 0., 1., 0., 0., 0., 0., 0., 0.],\n",
              "       [0., 1., 0., 0., 1., 1., 0., 0., 0.],\n",
              "       [0., 0., 1., 0., 0., 0., 1., 0., 0.],\n",
              "       [0., 0., 0., 0., 1., 0., 0., 1., 0.],\n",
              "       [0., 0., 0., 0., 0., 1., 1., 1., 0.]])"
            ]
          },
          "metadata": {},
          "execution_count": 16
        }
      ]
    },
    {
      "cell_type": "markdown",
      "source": [
        "## Node Degree"
      ],
      "metadata": {
        "id": "91yvDc-92TBC"
      }
    },
    {
      "cell_type": "code",
      "source": [
        "G5.degree"
      ],
      "metadata": {
        "colab": {
          "base_uri": "https://localhost:8080/"
        },
        "id": "3VoP2DaA2Owb",
        "outputId": "96bcb24a-0fd8-413c-9ffd-8ad5f25dc212"
      },
      "execution_count": 17,
      "outputs": [
        {
          "output_type": "execute_result",
          "data": {
            "text/plain": [
              "DegreeView({'A': 2, 'B': 4, 'C': 3, 'D': 2, 'E': 2, 'F': 5})"
            ]
          },
          "metadata": {},
          "execution_count": 17
        }
      ]
    },
    {
      "cell_type": "markdown",
      "source": [
        "# Laplacian Matrix"
      ],
      "metadata": {
        "id": "KFjLksz72bos"
      }
    },
    {
      "cell_type": "code",
      "source": [
        "L5 = nx.laplacian_matrix(G5)"
      ],
      "metadata": {
        "id": "yh88l47k2W8P"
      },
      "execution_count": 20,
      "outputs": []
    },
    {
      "cell_type": "code",
      "source": [
        "L5.todense()"
      ],
      "metadata": {
        "colab": {
          "base_uri": "https://localhost:8080/"
        },
        "id": "tws-54K22e6P",
        "outputId": "d5721b9b-c5e4-4109-80a2-c8db8e887482"
      },
      "execution_count": 22,
      "outputs": [
        {
          "output_type": "execute_result",
          "data": {
            "text/plain": [
              "array([[ 2, -1, -1,  0,  0,  0],\n",
              "       [-1,  2,  0, -1,  0,  0],\n",
              "       [-1,  0,  3,  0, -1, -1],\n",
              "       [ 0, -1,  0,  2,  0, -1],\n",
              "       [ 0,  0, -1,  0,  2, -1],\n",
              "       [ 0,  0, -1, -1, -1,  3]])"
            ]
          },
          "metadata": {},
          "execution_count": 22
        }
      ]
    },
    {
      "cell_type": "code",
      "source": [
        "L5.todense().diagonal()"
      ],
      "metadata": {
        "colab": {
          "base_uri": "https://localhost:8080/"
        },
        "id": "lUx7O1OM2kGm",
        "outputId": "0a2d3d4f-d03d-4476-f3c6-3f296222d783"
      },
      "execution_count": 23,
      "outputs": [
        {
          "output_type": "execute_result",
          "data": {
            "text/plain": [
              "array([2, 2, 3, 2, 2, 3])"
            ]
          },
          "metadata": {},
          "execution_count": 23
        }
      ]
    },
    {
      "cell_type": "code",
      "source": [],
      "metadata": {
        "id": "p6I-ogBl2pfB"
      },
      "execution_count": null,
      "outputs": []
    }
  ]
}